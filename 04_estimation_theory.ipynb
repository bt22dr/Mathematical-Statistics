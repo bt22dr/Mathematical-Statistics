{
 "cells": [
  {
   "cell_type": "markdown",
   "metadata": {},
   "source": [
    "# 4. 추정이론 \n",
    "\n",
    "연구 대상인 확률변수 X의 확률분포를 $P_\\theta(x), \\theta \\in \\Omega$로 표현하자. 이 경우 모수 $\\theta$는 $\\theta = (\\theta_1, \\theta_2, \\cdots , \\theta_k)$로 표현되는 벡터일 수 있으며, $\\Omega$는 모수가 가질 수 있는 값의 집합, 즉 모수공간을 뜻한다. 이제 확률분포 $P_\\theta(x), \\theta \\in \\Omega$로부터 크기가 n인 표본 $X_1, X_2, \\cdots , X_n$을 얻었다고 하자(편의상 $X = X_1, X_2, \\cdots , X_n$로 표기). 이때 우리가 관심이 있는 문제는 확률분포 $P_\\theta(x), \\theta \\in \\Omega$을 특징짓는 모수 $\\theta$ 또는 $\\theta$의 함수인 $g(\\theta)$의 추정이다. \n",
    "\n",
    "$g(\\theta)$의 추정에는 두 가지 방법이 있다. \n",
    "- 점추정(point estimation): 표본에 근거한 통계량 $T(X)=T(X_1, X_2, \\cdots , X_n)$을 사용하여 하나의 값으로 $g(\\theta)$를 추정\n",
    "- 구간추정(interval estimation): 두 개의 통계량 $T_1(X), T_2(X)$을 사용하여 구간 $[T_1(X), T_2(X)]$에 $g(\\theta)$가 포함될 확률을 고려\n",
    "\n",
    "**\\[정의 4.1\\]**  \n",
    "미지의(unknown) 모수를 포함하지 않는 랜덤표본 $X_1, X_2, \\cdots , X_n$의 함수를 통계량(statistic)이라고 한다. 모수 $\\theta$의 함수 $g(\\theta)$를 추정하기 위해 사용되는 통계량 $T(X)=T(X_1, \\cdots , X_n)$을 $g(\\theta)$의 추정량(estimator)이라고 하며, 주어진 표본값 $X_1=x_1, X_2 = x_2, \\cdots, X_n=x_n$을 대입해서 구해진 추정량의 특정값, $T(x)=T(x_1, x_2, \\cdots , x_n)$을 추정값(estimate)이라고 한다. \n",
    "\n",
    "모수 $\\theta$와 구별하기 편리하도록 추정량을 $\\hat{\\theta}$로 표기한다. \n",
    "\n",
    "추정량과 추정값을 예를 들어 설명해보자. $X_1, X_2, \\cdots , X_n$을 $N(\\mu, \\sigma^2)$으로부터 얻은 랜덤표본이라고 하자. 모평균 $\\mu$와 모분산 $\\sigma^2$을 추정하고자 할 때, 표본평균\n",
    "\n",
    "$$\n",
    "\\hat{\\mu} = T_1(X_1, X_2, \\cdots , X_n) = \\frac{\\sum_{i=1}^{n}X_i}{n}\n",
    "$$\n",
    "\n",
    "와 표본분산\n",
    "\n",
    "$$\n",
    "\\hat{\\sigma}^2 = T_2(X_1, X_2, \\cdots , X_n) = \\frac{\\sum_{i=1}^{n} (X_i - \\overline{X}_n)^2}{n-1}\n",
    "$$\n",
    "\n",
    "을 추정량으로 사용할 수 있으며, 표본이 주어졌을 때 그들의 값\n",
    "\n",
    "$$\n",
    "T_1(x_1, x_2, \\cdots , x_n) = \\frac{\\sum_{i=1}^{n}x_i}{n}, \\quad T_2(x_1, x_2, \\cdots , x_n) = \\frac{\\sum_{i=1}^{n} (x_i - \\overline{x}_n)^2}{n-1}\n",
    "$$\n",
    "\n",
    "을 추정값이라고 한다. "
   ]
  },
  {
   "cell_type": "markdown",
   "metadata": {},
   "source": [
    "## 4.1 추정의 방법\n",
    "\n",
    "\n",
    "### 4.1.1 적률추정법\n",
    "\n",
    "### 4.1.2 최대가능도 추정법(Maximum likelihood estimation)\n",
    "\n",
    "확률변수 $X_1, X_2, \\cdots , X_n$의 결합확률밀도함수가 $f(x_1, \\cdots, x_n; \\theta)$라고 하자. 결합확률밀도함수 $f(x_1, \\cdots, x_n; \\theta)$는 고정된 모수 $\\theta$에 대하여 $(x_1, \\cdots, x_n)$의 함수로 사용된다. 그러나 반대로 $f(x_1, \\cdots, x_n; \\theta)$를 관측치 $X_1 = x_1, X_2 = x_2, \\cdots , X_n = x_n$이 주어졌을 때 모수 $\\theta(\\in \\Omega)$의 함수로 생각해 볼 수도 있다. 즉 다음과 같이 \n",
    "\n",
    "$$\n",
    "L(\\theta) = L(\\theta; x_1, x_2, \\cdots , x_n) = f(x_1, x_2, \\cdots , x_n; \\theta)\n",
    "$$\n",
    "\n",
    "로 표기하고 이를 $X_1, X_2, \\cdots , X_n$의 가능도함수(likelihood function)라고 한다. 즉, 가능도함수 $L(\\theta)$는 주어진 자료 $(x_1, x_2, \\cdots , x_n)$에 대하여 그것이 얻어질 가능성을 모수 $\\theta$에 대한 함수로 나타낸 것이라 할 수 있다. \n",
    "\n",
    "가능도함수는 $\\theta$의 함수이므로 확률밀도함수가 아니라는 점을 유의하자. \n",
    "\n",
    "확률변수 $X_1, X_2, \\cdots , X_n$이 서로 독립이고 $X_i$가 확률밀도함수 $f_i(x_i;\\theta)$를 갖는다고 하면 $X_1, X_2, \\cdots , X_n$의 결합확률밀도함수는 \n",
    "\n",
    "$$\n",
    "\\prod_{i=1}^{n} f_i(x_i;\\theta) = f_1(x_1; \\theta)f_2(x_2; \\theta) \\cdots f_n(x_n; \\theta)\n",
    "$$\n",
    "\n",
    "이며, 가능도함수는\n",
    "\n",
    "$$\n",
    "\\begin{aligned}\n",
    "L(\\theta; x_1, \\cdots , x_n) & = \\prod_{i=1}^{n} f_i(x_i; \\theta) \\\\\n",
    "                             & = f_1(x_1; \\theta)f_2(x_2; \\theta) \\cdots f_n(x_n; \\theta)\n",
    "\\end{aligned}\n",
    "$$\n",
    "\n",
    "로 나타낼수 있다. 따라서 $X_1, X_2, \\cdots , X_n$이 확률밀도함수 $f(x;\\theta)$로부터의 랜덤표본이라고 하면 $f_i(x_i;\\theta) = f(x_i;\\theta)$이므로, 가능도 함수는\n",
    "\n",
    "$$\n",
    "L(\\theta; x_1, \\cdots , x_n) = \\prod_{i=1}^{n} f(x_i; \\theta)\n",
    "$$\n",
    "\n",
    "가 된다. 이 가능도함수를 최대화하는 통계량을 사용하여 모수를 추정하는 방법을 아래 정의에서 설명한다. \n",
    "\n",
    "**\\[정의 4.2\\]**  \n",
    "랜덤표본의 가능도함수 $L(\\theta;x_1, x_2, \\cdots , x_n)$을 최대화하는 $\\theta$의 값을 $\\hat{\\theta} = \\hat{\\theta}(x_1, x_2, \\cdots , x_n) \\in \\Omega$라고 할 때, $\\hat{\\theta} = \\hat{\\theta}(X_1, X_2, \\cdots , X_n) \\in \\Omega$을 모수 $\\theta$의 최대가능도 추정량(maximum likelihood estimator)이라 한다. \n",
    "\n",
    "이 최대가능도 추정량의 의미는 '실제로 관측된' 자료가 얻어질 확률을 가장 높게 만드는(즉, 주어진 관측값을 가장 잘 설명하는) 가능도함수의 $\\theta$값을 모수 $\\theta$의 추정량으로 삼는 것이다. (이 추정량은 랜덤표본에 대한 확률변수들로 이루어진 함수로 표현된다)"
   ]
  },
  {
   "cell_type": "code",
   "execution_count": null,
   "metadata": {},
   "outputs": [],
   "source": [
    "\n"
   ]
  }
 ],
 "metadata": {
  "kernelspec": {
   "display_name": "Python 3",
   "language": "python",
   "name": "python3"
  },
  "language_info": {
   "codemirror_mode": {
    "name": "ipython",
    "version": 3
   },
   "file_extension": ".py",
   "mimetype": "text/x-python",
   "name": "python",
   "nbconvert_exporter": "python",
   "pygments_lexer": "ipython3",
   "version": "3.6.5"
  }
 },
 "nbformat": 4,
 "nbformat_minor": 2
}
